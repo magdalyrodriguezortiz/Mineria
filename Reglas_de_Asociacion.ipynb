{
 "cells": [
  {
   "cell_type": "code",
   "execution_count": 4,
   "metadata": {
    "scrolled": true
   },
   "outputs": [],
   "source": [
    "dataset = pd.read_csv('Base de Datos.csv', header = None)"
   ]
  },
  {
   "cell_type": "code",
   "execution_count": 6,
   "metadata": {},
   "outputs": [
    {
     "name": "stdout",
     "output_type": "stream",
     "text": [
      "Requirement already satisfied: apyori in c:\\programdata\\anaconda3\\lib\\site-packages (1.1.2)\n",
      "Note: you may need to restart the kernel to use updated packages.\n"
     ]
    }
   ],
   "source": [
    "pip install apyori"
   ]
  },
  {
   "cell_type": "code",
   "execution_count": 5,
   "metadata": {},
   "outputs": [],
   "source": [
    "import numpy as np\n",
    "import pandas as pd\n",
    "import matplotlib.pyplot as plt\n",
    "from apyori import apriori"
   ]
  },
  {
   "cell_type": "code",
   "execution_count": 45,
   "metadata": {},
   "outputs": [],
   "source": [
    "transactions = []\n",
    "for i in range(0, 100):\n",
    "    transactions.append([str(dataset.values[i,j]) for j in range(0, 4)])"
   ]
  },
  {
   "cell_type": "code",
   "execution_count": 46,
   "metadata": {},
   "outputs": [],
   "source": [
    "rules = apriori(transactions, min_support = 0.02, min_confidence = 0.2, min_lift = 1.5, min_length = 2)"
   ]
  },
  {
   "cell_type": "code",
   "execution_count": 47,
   "metadata": {},
   "outputs": [],
   "source": [
    "results = list(rules)"
   ]
  },
  {
   "cell_type": "code",
   "execution_count": 48,
   "metadata": {},
   "outputs": [],
   "source": [
    "def inspect(results):\n",
    "    rh          = [tuple(result[2][0][0]) for result in results]\n",
    "    lh          = [tuple(result[2][0][1]) for result in results]\n",
    "    supports    = [result[1] for result in results]\n",
    "    confidences = [result[2][0][2] for result in results]\n",
    "    lifts       = [result[2][0][3] for result in results]\n",
    "    return list(zip(rh, lh, supports, confidences, lifts))\n"
   ]
  },
  {
   "cell_type": "code",
   "execution_count": 49,
   "metadata": {},
   "outputs": [],
   "source": [
    "resultDataFrame=pd.DataFrame(inspect(results),\n",
    "                columns=['rhs','lhs','support','confidence','lift'])\n"
   ]
  },
  {
   "cell_type": "code",
   "execution_count": 50,
   "metadata": {},
   "outputs": [
    {
     "data": {
      "text/html": [
       "<div>\n",
       "<style scoped>\n",
       "    .dataframe tbody tr th:only-of-type {\n",
       "        vertical-align: middle;\n",
       "    }\n",
       "\n",
       "    .dataframe tbody tr th {\n",
       "        vertical-align: top;\n",
       "    }\n",
       "\n",
       "    .dataframe thead th {\n",
       "        text-align: right;\n",
       "    }\n",
       "</style>\n",
       "<table border=\"1\" class=\"dataframe\">\n",
       "  <thead>\n",
       "    <tr style=\"text-align: right;\">\n",
       "      <th></th>\n",
       "      <th>rhs</th>\n",
       "      <th>lhs</th>\n",
       "      <th>support</th>\n",
       "      <th>confidence</th>\n",
       "      <th>lift</th>\n",
       "    </tr>\n",
       "  </thead>\n",
       "  <tbody>\n",
       "    <tr>\n",
       "      <th>0</th>\n",
       "      <td>(almonds,)</td>\n",
       "      <td>(eggs,)</td>\n",
       "      <td>0.03</td>\n",
       "      <td>0.375000</td>\n",
       "      <td>2.343750</td>\n",
       "    </tr>\n",
       "    <tr>\n",
       "      <th>1</th>\n",
       "      <td>(almonds,)</td>\n",
       "      <td>(energy drink,)</td>\n",
       "      <td>0.02</td>\n",
       "      <td>0.250000</td>\n",
       "      <td>2.500000</td>\n",
       "    </tr>\n",
       "    <tr>\n",
       "      <th>2</th>\n",
       "      <td>(almonds,)</td>\n",
       "      <td>(honey,)</td>\n",
       "      <td>0.02</td>\n",
       "      <td>0.250000</td>\n",
       "      <td>3.125000</td>\n",
       "    </tr>\n",
       "    <tr>\n",
       "      <th>3</th>\n",
       "      <td>(almonds,)</td>\n",
       "      <td>(shrimp,)</td>\n",
       "      <td>0.02</td>\n",
       "      <td>0.250000</td>\n",
       "      <td>1.923077</td>\n",
       "    </tr>\n",
       "    <tr>\n",
       "      <th>4</th>\n",
       "      <td>(antioxydant juice,)</td>\n",
       "      <td>(cottage cheese,)</td>\n",
       "      <td>0.03</td>\n",
       "      <td>0.333333</td>\n",
       "      <td>2.380952</td>\n",
       "    </tr>\n",
       "    <tr>\n",
       "      <th>...</th>\n",
       "      <td>...</td>\n",
       "      <td>...</td>\n",
       "      <td>...</td>\n",
       "      <td>...</td>\n",
       "      <td>...</td>\n",
       "    </tr>\n",
       "    <tr>\n",
       "      <th>80</th>\n",
       "      <td>(tomatoes, fresh tuna)</td>\n",
       "      <td>(turkey,)</td>\n",
       "      <td>0.02</td>\n",
       "      <td>1.000000</td>\n",
       "      <td>11.111111</td>\n",
       "    </tr>\n",
       "    <tr>\n",
       "      <th>81</th>\n",
       "      <td>(mineral water, frozen vegetables)</td>\n",
       "      <td>(spaghetti,)</td>\n",
       "      <td>0.02</td>\n",
       "      <td>0.666667</td>\n",
       "      <td>3.703704</td>\n",
       "    </tr>\n",
       "    <tr>\n",
       "      <th>82</th>\n",
       "      <td>(ground beef, mineral water)</td>\n",
       "      <td>(spaghetti,)</td>\n",
       "      <td>0.02</td>\n",
       "      <td>0.500000</td>\n",
       "      <td>2.777778</td>\n",
       "    </tr>\n",
       "    <tr>\n",
       "      <th>83</th>\n",
       "      <td>(low fat yogurt, salad)</td>\n",
       "      <td>(shrimp,)</td>\n",
       "      <td>0.02</td>\n",
       "      <td>0.500000</td>\n",
       "      <td>3.846154</td>\n",
       "    </tr>\n",
       "    <tr>\n",
       "      <th>84</th>\n",
       "      <td>(low fat yogurt, salmon)</td>\n",
       "      <td>(whole weat flour,)</td>\n",
       "      <td>0.02</td>\n",
       "      <td>0.666667</td>\n",
       "      <td>11.111111</td>\n",
       "    </tr>\n",
       "  </tbody>\n",
       "</table>\n",
       "<p>85 rows × 5 columns</p>\n",
       "</div>"
      ],
      "text/plain": [
       "                                   rhs                  lhs  support  \\\n",
       "0                           (almonds,)              (eggs,)     0.03   \n",
       "1                           (almonds,)      (energy drink,)     0.02   \n",
       "2                           (almonds,)             (honey,)     0.02   \n",
       "3                           (almonds,)            (shrimp,)     0.02   \n",
       "4                 (antioxydant juice,)    (cottage cheese,)     0.03   \n",
       "..                                 ...                  ...      ...   \n",
       "80              (tomatoes, fresh tuna)            (turkey,)     0.02   \n",
       "81  (mineral water, frozen vegetables)         (spaghetti,)     0.02   \n",
       "82        (ground beef, mineral water)         (spaghetti,)     0.02   \n",
       "83             (low fat yogurt, salad)            (shrimp,)     0.02   \n",
       "84            (low fat yogurt, salmon)  (whole weat flour,)     0.02   \n",
       "\n",
       "    confidence       lift  \n",
       "0     0.375000   2.343750  \n",
       "1     0.250000   2.500000  \n",
       "2     0.250000   3.125000  \n",
       "3     0.250000   1.923077  \n",
       "4     0.333333   2.380952  \n",
       "..         ...        ...  \n",
       "80    1.000000  11.111111  \n",
       "81    0.666667   3.703704  \n",
       "82    0.500000   2.777778  \n",
       "83    0.500000   3.846154  \n",
       "84    0.666667  11.111111  \n",
       "\n",
       "[85 rows x 5 columns]"
      ]
     },
     "execution_count": 50,
     "metadata": {},
     "output_type": "execute_result"
    }
   ],
   "source": [
    "resultDataFrame"
   ]
  }
 ],
 "metadata": {
  "kernelspec": {
   "display_name": "Python 3",
   "language": "python",
   "name": "python3"
  },
  "language_info": {
   "codemirror_mode": {
    "name": "ipython",
    "version": 3
   },
   "file_extension": ".py",
   "mimetype": "text/x-python",
   "name": "python",
   "nbconvert_exporter": "python",
   "pygments_lexer": "ipython3",
   "version": "3.7.6"
  }
 },
 "nbformat": 4,
 "nbformat_minor": 4
}
