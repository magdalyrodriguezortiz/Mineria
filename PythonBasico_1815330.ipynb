{
 "cells": [
  {
   "cell_type": "markdown",
   "metadata": {},
   "source": [
    "Magdaly Rodriguez Ortiz 1815330"
   ]
  },
  {
   "cell_type": "markdown",
   "metadata": {},
   "source": [
    "### Ejercicio 1.###\n",
    "\n",
    "Realiza una variable con tu matricula y realiza una secuencia de imprimir con tu nombre y tu matricula concatenados."
   ]
  },
  {
   "cell_type": "code",
   "execution_count": 1,
   "metadata": {},
   "outputs": [
    {
     "name": "stdout",
     "output_type": "stream",
     "text": [
      "Introduce tu matricula: 1815330\n",
      "Introduce tu nombre: Magdaly Rodriguez Ortiz\n",
      "Magdaly Rodriguez Ortiz 1815330\n"
     ]
    }
   ],
   "source": [
    "mat = int(input(\"Introduce tu matricula: \"))\n",
    "nom = input(\"Introduce tu nombre: \")\n",
    "\n",
    "print ( nom, mat)"
   ]
  },
  {
   "cell_type": "markdown",
   "metadata": {},
   "source": [
    "### Ejercicio 2.###\n",
    "Pidiendo el input del usuario pide dos números y crea una pequeña calculadora con los operadores básicos de suma, resta, multiplicación, división, y exponente.\n"
   ]
  },
  {
   "cell_type": "code",
   "execution_count": 2,
   "metadata": {},
   "outputs": [
    {
     "name": "stdout",
     "output_type": "stream",
     "text": [
      "Introduce el primer numero: 4\n",
      "Introduce el segundo numero: 6\n",
      " \n",
      "MENU \n",
      "1. Suma\n",
      "2. Resta\n",
      "3. División\n",
      "4. Multiplicación\n",
      "5. Exponente\n",
      "6. Salir\n",
      " \n",
      "¿Que operacion desea realizar? 4\n",
      "El resultado de la multiplicación es:  24.0\n",
      " \n",
      "Si desea realizar otra operación oprima 1, de no ser asi oprima 0: 0\n",
      " \n"
     ]
    }
   ],
   "source": [
    "ban = 1\n",
    "while ban == 1:\n",
    "    \n",
    "    a = float(input(\"Introduce el primer numero: \"))\n",
    "    b = float(input(\"Introduce el segundo numero: \")) \n",
    "    print(\" \")\n",
    "    print(\"MENU \")\n",
    "    print(\"1. Suma\")\n",
    "    print(\"2. Resta\")\n",
    "    print(\"3. División\")\n",
    "    print(\"4. Multiplicación\")\n",
    "    print(\"5. Exponente\")\n",
    "    print(\"6. Salir\")\n",
    "    print(\" \")\n",
    "    res = int(input(\"¿Que operacion desea realizar? \"))\n",
    "      \n",
    "    if res == 1 :\n",
    "        ressum = a + b\n",
    "        print(\"El resultado de la suma es: \",ressum)\n",
    "    elif res == 2 :\n",
    "        resres = a - b\n",
    "        print(\"El resultado de la resta es: \",resres)\n",
    "    elif res == 3 :\n",
    "        resdiv = a / b\n",
    "        print(\"El resultado de la división es: \",resdiv)\n",
    "    elif res == 4 :\n",
    "        resmul = a * b\n",
    "        print(\"El resultado de la multiplicación es: \",resmul)\n",
    "    elif res == 5 :\n",
    "        resexp = a ** b\n",
    "        print(\"El resultado es: \",resexp)\n",
    "    elif res == 6 :\n",
    "        break\n",
    "    else:\n",
    "        print(\"     OPCION NO ENCONTRADA.\")\n",
    "    \n",
    "    print(\" \")\n",
    "    ban = int(input(\"Si desea realizar otra operación oprima 1, de no ser asi oprima 0: \"))\n",
    "    print(\" \")"
   ]
  },
  {
   "cell_type": "markdown",
   "metadata": {},
   "source": [
    "### Ejercicio 3.###\n",
    "Con loop while o for, realiza una lista de 10 numeros multiplos de 3, y después realiza una función de loop que sume todos los números dentro del arreglo."
   ]
  },
  {
   "cell_type": "code",
   "execution_count": 3,
   "metadata": {},
   "outputs": [
    {
     "name": "stdout",
     "output_type": "stream",
     "text": [
      "La suma de los elementos de la lista es:  165\n"
     ]
    }
   ],
   "source": [
    "num = 3\n",
    "lista =[]\n",
    "for i in range (1,11):\n",
    "    lista.append(num*i)\n",
    "\n",
    "i = 0\n",
    "sum = 0\n",
    "while i < 10 :\n",
    "    sum = sum + lista[i]\n",
    "    i = i + 1\n",
    "\n",
    "print(\"La suma de los elementos de la lista es: \", sum)"
   ]
  },
  {
   "cell_type": "markdown",
   "metadata": {},
   "source": [
    "### Ejercicio 4.###\n",
    "\n",
    "Con una función de if else, revisar si un número es par o es impar."
   ]
  },
  {
   "cell_type": "code",
   "execution_count": 4,
   "metadata": {},
   "outputs": [
    {
     "name": "stdout",
     "output_type": "stream",
     "text": [
      "Introduce un numero: 5\n",
      "El numero es impar.\n"
     ]
    }
   ],
   "source": [
    "x = int(input(\"Introduce un numero: \"))\n",
    "\n",
    "if x % 2 == 0 :\n",
    "    print(\"El numero es par.\")\n",
    "else :\n",
    "    print(\"El numero es impar.\")"
   ]
  },
  {
   "cell_type": "markdown",
   "metadata": {},
   "source": [
    "-----------------------------------------------------------------\n",
    "• Con una función de if else, revisar si un número es primo o no."
   ]
  },
  {
   "cell_type": "code",
   "execution_count": 5,
   "metadata": {},
   "outputs": [
    {
     "name": "stdout",
     "output_type": "stream",
     "text": [
      "Introduce un numero: 234\n",
      "El numero NO es primo\n"
     ]
    }
   ],
   "source": [
    "x = int(input(\"Introduce un numero: \"))\n",
    "divisor = 2\n",
    "ban = 0\n",
    "while (ban == 0) & (divisor < x):\n",
    "    if x % divisor == 0 :\n",
    "        ban = 1\n",
    "    else :\n",
    "        divisor = divisor + 1\n",
    "\n",
    "if ban == 1:\n",
    "    print (\"El numero NO es primo\")\n",
    "else:\n",
    "    print (\"El numero es primo\")\n",
    "\n",
    "    "
   ]
  },
  {
   "cell_type": "markdown",
   "metadata": {},
   "source": [
    "### Ejercicio 5.###\n",
    "\n",
    "Utilizando diferentes clases en python, crea una calculadora con los operadores básicos de suma, resta, multiplicación, división, y exponente."
   ]
  },
  {
   "cell_type": "code",
   "execution_count": 6,
   "metadata": {},
   "outputs": [
    {
     "name": "stdout",
     "output_type": "stream",
     "text": [
      " \n",
      "MENU \n",
      "1. Suma\n",
      "2. Resta\n",
      "3. División\n",
      "4. Multiplicación\n",
      "5. Exponente\n",
      "6. Salir\n",
      " \n",
      "¿Que operacion desea realizar? 1\n",
      "Introduce el primer numero: 4\n",
      "Introduce el segundo numero: 7\n",
      "El resultado de la suma es :  11.0\n",
      " \n",
      "Si desea realizar otra operación oprima 1, de no ser asi oprima 0: 0\n",
      " \n"
     ]
    }
   ],
   "source": [
    "def Suma (a,b) :\n",
    "    ressum = a + b\n",
    "    print(\"El resultado de la suma es : \", ressum)\n",
    "\n",
    "def Resta (a,b) :\n",
    "    resres = a - b\n",
    "    print(\"El resultado de la resta es : \", resres)\n",
    "\n",
    "def Multiplicacion (a,b) :\n",
    "    resmul = a * b\n",
    "    print(\"El resultado de la multiplicacion es : \",resmul)\n",
    "    \n",
    "def Division (a,b) : \n",
    "    resdiv = a / b\n",
    "    print(\"El resultado de la division es : \", resdiv)\n",
    "\n",
    "def Exponente (a,b) :\n",
    "    resexp = a ** b\n",
    "    print(\"El resultado de la exponencial es : \", resexp)\n",
    "    \n",
    "\n",
    "ban = 1\n",
    "while ban == 1:\n",
    "    \n",
    "    print(\" \")\n",
    "    print(\"MENU \")\n",
    "    print(\"1. Suma\")\n",
    "    print(\"2. Resta\")\n",
    "    print(\"3. División\")\n",
    "    print(\"4. Multiplicación\")\n",
    "    print(\"5. Exponente\")\n",
    "    print(\"6. Salir\")\n",
    "    print(\" \")\n",
    "    res = int(input(\"¿Que operacion desea realizar? \"))\n",
    " \n",
    "    a = float(input(\"Introduce el primer numero: \"))\n",
    "    b = float(input(\"Introduce el segundo numero: \")) \n",
    "    if res == 1 :\n",
    "        Suma(a,b)\n",
    "    elif res == 2 :\n",
    "        Resta(a,b)\n",
    "    elif res == 3 :\n",
    "        Division(a,b)\n",
    "    elif res == 4 :\n",
    "        Multiplicacion(a,b)\n",
    "    elif res == 5 :\n",
    "        Exponente(a,b)\n",
    "    elif res == 6 :\n",
    "        break\n",
    "    else:\n",
    "        print(\"     OPCION NO ENCONTRADA.\")\n",
    "    \n",
    "    print(\" \")\n",
    "    ban = int(input(\"Si desea realizar otra operación oprima 1, de no ser asi oprima 0: \"))\n",
    "    print(\" \")"
   ]
  },
  {
   "cell_type": "markdown",
   "metadata": {},
   "source": [
    "## Ejercicios con estructuras básicas de python.##"
   ]
  },
  {
   "cell_type": "markdown",
   "metadata": {},
   "source": [
    "### Tuplas###\n",
    "\n",
    "Crear una variable flotante, integer, boleana y compleja e imprimir el tipo de variable que es."
   ]
  },
  {
   "cell_type": "code",
   "execution_count": 7,
   "metadata": {},
   "outputs": [
    {
     "name": "stdout",
     "output_type": "stream",
     "text": [
      "El tipo de variable de  0.7  es : \n",
      "<class 'float'>\n",
      "El tipo de variable de  7  es : \n",
      "<class 'int'>\n",
      "El tipo de variable de  True  es : \n",
      "<class 'bool'>\n",
      "El tipo de variable de  3j  es : \n",
      "<class 'complex'>\n"
     ]
    }
   ],
   "source": [
    "flotante = 0.7\n",
    "entero = 7\n",
    "booleana = True\n",
    "comp = 3j\n",
    "\n",
    "print(\"El tipo de variable de \",flotante, \" es : \")\n",
    "print(type(flotante))\n",
    "print(\"El tipo de variable de \",entero, \" es : \")\n",
    "print(type(entero))\n",
    "print(\"El tipo de variable de \",booleana, \" es : \")\n",
    "print(type(booleana))\n",
    "print(\"El tipo de variable de \",comp, \" es : \")\n",
    "print(type(comp))\n",
    "\n",
    "\n"
   ]
  },
  {
   "cell_type": "markdown",
   "metadata": {},
   "source": [
    "----------------------------------------------------\n",
    "Crear una tupla con valores enteros imprimir el primer y ultimo valor."
   ]
  },
  {
   "cell_type": "code",
   "execution_count": 8,
   "metadata": {},
   "outputs": [
    {
     "name": "stdout",
     "output_type": "stream",
     "text": [
      "El primer valor de la tupla es :  5\n",
      "El ultimo valor e la tupla es :  9\n"
     ]
    }
   ],
   "source": [
    "tupla1 = (5,3,8,4,9)\n",
    "\n",
    "print(\"El primer valor de la tupla es : \", tupla1[0])\n",
    "print(\"El ultimo valor e la tupla es : \", tupla1[-1])\n"
   ]
  },
  {
   "cell_type": "markdown",
   "metadata": {},
   "source": [
    "-------------------------------------------------------\n",
    "\n",
    "Añadir 3 valores de string a la tupla."
   ]
  },
  {
   "cell_type": "code",
   "execution_count": 9,
   "metadata": {},
   "outputs": [],
   "source": [
    "tupla1 = tupla1 + ('Hola','a','todos')"
   ]
  },
  {
   "cell_type": "markdown",
   "metadata": {},
   "source": [
    "---------------------------------------------\n",
    "\n",
    "Verificar si una variable existe dentro de la tupla."
   ]
  },
  {
   "cell_type": "code",
   "execution_count": 10,
   "metadata": {},
   "outputs": [
    {
     "name": "stdout",
     "output_type": "stream",
     "text": [
      "¿La variable '8' esta en la tupla llamada 'tupla1'?  True\n"
     ]
    }
   ],
   "source": [
    "print(\"¿La variable '8' esta en la tupla llamada 'tupla1'? \", 8 in tupla1)"
   ]
  },
  {
   "cell_type": "markdown",
   "metadata": {},
   "source": [
    "### Listas###\n",
    "\n",
    "Crear una lista con 40 elementos aleatorios enteros."
   ]
  },
  {
   "cell_type": "code",
   "execution_count": 11,
   "metadata": {},
   "outputs": [
    {
     "name": "stdout",
     "output_type": "stream",
     "text": [
      "[6230, 5815, 4672, 593, 129, 8911, 5202, 7498, 7489, 307, 3962, 5325, 9424, 7825, 9985, 1778, 1963, 2307, 3976, 826, 9575, 3774, 1724, 1890, 890, 1612, 3825, 5786, 8840, 1996, 4645, 3610, 6137, 3978, 2644, 9374, 6464, 5395, 9688, 6027]\n"
     ]
    }
   ],
   "source": [
    "from random import randrange\n",
    "lista1=[]\n",
    "for i in range (0,40):\n",
    "    lista1.append(randrange(10000))\n",
    "\n",
    "print(lista1)\n",
    "    \n"
   ]
  },
  {
   "cell_type": "markdown",
   "metadata": {},
   "source": [
    "-------------------------------\n",
    "Con una funcion (def) crear dos listas nuevas a partir de la lista creada por numeros aleatorios, en la cual en una esten los elementos pares, y en la otra los elementos impares.\n"
   ]
  },
  {
   "cell_type": "code",
   "execution_count": 12,
   "metadata": {},
   "outputs": [
    {
     "name": "stdout",
     "output_type": "stream",
     "text": [
      "La nueva lista de pares es :  [6230, 4672, 5202, 7498, 3962, 9424, 1778, 3976, 826, 3774, 1724, 1890, 890, 1612, 5786, 8840, 1996, 3610, 3978, 2644, 9374, 6464, 9688]\n",
      "La nueva lista de impares es :  [5815, 593, 129, 8911, 7489, 307, 5325, 7825, 9985, 1963, 2307, 9575, 3825, 4645, 6137, 5395, 6027]\n"
     ]
    }
   ],
   "source": [
    "listapares=[]\n",
    "listaimpares=[]\n",
    "\n",
    "def Lista_nueva(lista1):\n",
    "    for i in range (0,40):\n",
    "        if lista1[i] % 2 == 0 :\n",
    "            listapares.append(lista1[i])\n",
    " \n",
    "        else:\n",
    "            listaimpares.append(lista1[i])\n",
    "    \n",
    "    print(\"La nueva lista de pares es : \",listapares)\n",
    "    print(\"La nueva lista de impares es : \",listaimpares)\n",
    "\n",
    "Lista_nueva(lista1)"
   ]
  },
  {
   "cell_type": "markdown",
   "metadata": {},
   "source": [
    "-----------------------------------\n",
    "Crear dos variables con la longitud de ambas listas nuevas e imprimir las variables.\n"
   ]
  },
  {
   "cell_type": "code",
   "execution_count": 13,
   "metadata": {},
   "outputs": [
    {
     "name": "stdout",
     "output_type": "stream",
     "text": [
      "23\n",
      "17\n"
     ]
    }
   ],
   "source": [
    "varpar = len(listapares)\n",
    "print(varpar)\n",
    "varimpar = len(listaimpares)\n",
    "print(varimpar)"
   ]
  },
  {
   "cell_type": "markdown",
   "metadata": {},
   "source": [
    "----------------------------------------------\n",
    "Ordenar los elementos de la lista par de mayor a menor, y los de la lista impar de menor a mayor.\n"
   ]
  },
  {
   "cell_type": "code",
   "execution_count": 14,
   "metadata": {},
   "outputs": [
    {
     "name": "stdout",
     "output_type": "stream",
     "text": [
      "La lista de pares ordenada de menor a mayor :  [826, 890, 1612, 1724, 1778, 1890, 1996, 2644, 3610, 3774, 3962, 3976, 3978, 4672, 5202, 5786, 6230, 6464, 7498, 8840, 9374, 9424, 9688]\n",
      "La lista de impares ordenada de mayor a menor :  [9688, 9424, 9374, 8840, 7498, 6464, 6230, 5786, 5202, 4672, 3978, 3976, 3962, 3774, 3610, 2644, 1996, 1890, 1778, 1724, 1612, 890, 826]\n"
     ]
    }
   ],
   "source": [
    "def Orden(lista1):\n",
    "    listapares=[]\n",
    "    listaimpares=[]\n",
    "    for i in range (0,40):\n",
    "        if lista1[i] % 2 == 0 :\n",
    "            listapares.append(lista1[i])\n",
    " \n",
    "        else:\n",
    "            listaimpares.append(lista1[i])\n",
    "    print(\"La lista de pares ordenada de menor a mayor : \",(sorted(listapares)))\n",
    "    print(\"La lista de impares ordenada de mayor a menor : \",(sorted(listapares,reverse = True)))\n",
    "    \n",
    "Orden(lista1)"
   ]
  },
  {
   "cell_type": "markdown",
   "metadata": {},
   "source": [
    "-----------------------------------------------------------------\n",
    "Utilizar al menos cuatro de las funciones de listas en python en la lista original de 40 elementos."
   ]
  },
  {
   "cell_type": "code",
   "execution_count": 15,
   "metadata": {},
   "outputs": [
    {
     "name": "stdout",
     "output_type": "stream",
     "text": [
      "La listaejemplo es :  [28, 4, 20, 7, 18, 17, 25, 31, 15, 82, 72, 62, 7, 27, 95, 71, 74, 95, 33, 64, 98, 16, 5, 56, 32, 29, 63, 87, 26, 10, 95, 32, 0, 46, 8, 58, 56, 1, 44, 0]\n",
      " \n",
      "La listaejemplo con el ultimo dato eliminado es :  [28, 4, 20, 7, 18, 17, 25, 31, 15, 82, 72, 62, 7, 27, 95, 71, 74, 95, 33, 64, 98, 16, 5, 56, 32, 29, 63, 87, 26, 10, 95, 32, 0, 46, 8, 58, 56, 1, 44]\n",
      " \n",
      "La listaejemplo extendida es :  [28, 4, 20, 7, 18, 17, 25, 31, 15, 82, 72, 62, 7, 27, 95, 71, 74, 95, 33, 64, 98, 16, 5, 56, 32, 29, 63, 87, 26, 10, 95, 32, 0, 46, 8, 58, 56, 1, 44, 5, 2, 1]\n",
      " \n",
      "La listaejemplo ordenada de menor a mayor es :  [0, 1, 1, 2, 4, 5, 5, 7, 7, 8, 10, 15, 16, 17, 18, 20, 25, 26, 27, 28, 29, 31, 32, 32, 33, 44, 46, 56, 56, 58, 62, 63, 64, 71, 72, 74, 82, 87, 95, 95, 95, 98]\n",
      " \n",
      "La listaejemplo ordenada de mayor a menor es :  [98, 95, 95, 95, 87, 82, 74, 72, 71, 64, 63, 62, 58, 56, 56, 46, 44, 33, 32, 32, 31, 29, 28, 27, 26, 25, 20, 18, 17, 16, 15, 10, 8, 7, 7, 5, 5, 4, 2, 1, 1, 0]\n",
      " \n",
      "Datos eliminados de la lista  []\n"
     ]
    }
   ],
   "source": [
    "listaejemplo=[]\n",
    "for i in range (0,40):\n",
    "    listaejemplo.append(randrange(100))\n",
    "    \n",
    "print(\"La listaejemplo es : \",listaejemplo)\n",
    "print(\" \")\n",
    "listaejemplo.pop()\n",
    "print(\"La listaejemplo con el ultimo dato eliminado es : \",listaejemplo)\n",
    "print(\" \")\n",
    "listaejemplo.extend([5,2,1])\n",
    "print(\"La listaejemplo extendida es : \",listaejemplo)\n",
    "print(\" \")\n",
    "listaejemplo.sort()\n",
    "print(\"La listaejemplo ordenada de menor a mayor es : \",listaejemplo)\n",
    "print(\" \")\n",
    "listaejemplo.reverse()\n",
    "print(\"La listaejemplo ordenada de mayor a menor es : \",listaejemplo)\n",
    "print(\" \")\n",
    "listaejemplo.clear()\n",
    "print(\"Datos eliminados de la lista \",listaejemplo)"
   ]
  },
  {
   "cell_type": "markdown",
   "metadata": {},
   "source": [
    "### Diccionarios###\n",
    "\n",
    "Crear un diccionario de 6 personas que conozcas con su primer nombre y su edad.\n"
   ]
  },
  {
   "cell_type": "code",
   "execution_count": 16,
   "metadata": {},
   "outputs": [],
   "source": [
    "personas = {\"Ricardo\":24,\"Gerardo\":26,\"Luis\":20,\"Juan\":21,\"Alejandra\":23,\"Sofia\":20}"
   ]
  },
  {
   "cell_type": "markdown",
   "metadata": {},
   "source": [
    "----------------------\n",
    "Crear una lista con los valores de la edad y reacomodar la lista de menor a mayor valor.\n"
   ]
  },
  {
   "cell_type": "code",
   "execution_count": 17,
   "metadata": {},
   "outputs": [
    {
     "name": "stdout",
     "output_type": "stream",
     "text": [
      "[20, 20, 21, 23, 24, 26]\n"
     ]
    }
   ],
   "source": [
    "listaedades = list(personas.values())\n",
    "j = len(listaedades) - 1\n",
    "\n",
    "ban = 0\n",
    "while(ban == 0):\n",
    "    ban = 1\n",
    "    for i in range(0, j):\n",
    "        if listaedades[i] > listaedades[i+1]:\n",
    "            ban2 = listaedades[i]\n",
    "            listaedades[i] = listaedades[i+1]\n",
    "            listaedades[i+1] = ban2\n",
    "            ban = 0\n",
    "\n",
    "print(listaedades)\n",
    "\n"
   ]
  },
  {
   "cell_type": "markdown",
   "metadata": {},
   "source": [
    "--------------------------------------\n",
    "Usando el diccionario y un loop, imprimir solo los nombres.\n"
   ]
  },
  {
   "cell_type": "code",
   "execution_count": 18,
   "metadata": {},
   "outputs": [
    {
     "name": "stdout",
     "output_type": "stream",
     "text": [
      "dict_keys(['Ricardo', 'Gerardo', 'Luis', 'Juan', 'Alejandra', 'Sofia'])\n"
     ]
    }
   ],
   "source": [
    "i = 0 \n",
    "while i < 1 :\n",
    "    print(personas.keys())\n",
    "    i = i + 1\n",
    "    "
   ]
  },
  {
   "cell_type": "markdown",
   "metadata": {},
   "source": [
    "-----------------------------------------\n",
    "Añadir dos personas nuevas a tu diccionario, incluyendo edad."
   ]
  },
  {
   "cell_type": "code",
   "execution_count": 19,
   "metadata": {},
   "outputs": [
    {
     "name": "stdout",
     "output_type": "stream",
     "text": [
      "{'Ricardo': 24, 'Gerardo': 26, 'Luis': 20, 'Juan': 21, 'Alejandra': 23, 'Sofia': 20, 'Cristina': 27, 'Alonso': 22}\n"
     ]
    }
   ],
   "source": [
    "personas[\"Cristina\"] = 27\n",
    "personas[\"Alonso\"] = 22\n",
    "\n",
    "print(personas)"
   ]
  },
  {
   "cell_type": "markdown",
   "metadata": {},
   "source": [
    "### Sets.###\n",
    "\n",
    "Crea un set con 100 numeros aleatorios enteros del 1 al 25.\n"
   ]
  },
  {
   "cell_type": "code",
   "execution_count": 20,
   "metadata": {},
   "outputs": [
    {
     "name": "stdout",
     "output_type": "stream",
     "text": [
      "{1, 3, 4, 6, 7, 8, 9, 10, 11, 12, 13, 14, 15, 16, 17, 18, 19, 20, 21, 22, 23, 24, 25}\n"
     ]
    }
   ],
   "source": [
    "import numpy as np\n",
    "set1 = set()\n",
    "for i in range(0,100):\n",
    "    set1.add(np.random.randint(1,26)) \n",
    "print(set1)"
   ]
  },
  {
   "cell_type": "markdown",
   "metadata": {},
   "source": [
    "----------------------------------\n",
    "Comprueba la longitud de tu set.\n"
   ]
  },
  {
   "cell_type": "code",
   "execution_count": 21,
   "metadata": {},
   "outputs": [
    {
     "data": {
      "text/plain": [
       "23"
      ]
     },
     "execution_count": 21,
     "metadata": {},
     "output_type": "execute_result"
    }
   ],
   "source": [
    "len(set1)"
   ]
  },
  {
   "cell_type": "markdown",
   "metadata": {},
   "source": [
    "---------------------------------------\n",
    "Crea una lista de 5 numeros aleatorios del 1 al 10 y comprueba si cada valor aparece en el set inicial."
   ]
  },
  {
   "cell_type": "code",
   "execution_count": 22,
   "metadata": {},
   "outputs": [
    {
     "name": "stdout",
     "output_type": "stream",
     "text": [
      "[6, 10, 9, 8, 9]\n",
      "El elemento que esta en la posicion 0 de la lista creada si esta en el set inicial\n",
      "El elemento que esta en la posicion 1 de la lista creada si esta en el set inicial\n",
      "El elemento que esta en la posicion 2 de la lista creada si esta en el set inicial\n",
      "El elemento que esta en la posicion 3 de la lista creada si esta en el set inicial\n",
      "El elemento que esta en la posicion 4 de la lista creada si esta en el set inicial\n"
     ]
    }
   ],
   "source": [
    "import numpy as np\n",
    "lista2=[]\n",
    "for i in range (0,5):\n",
    "    lista2.append(np.random.randint(1,11))\n",
    "\n",
    "print(lista2)\n",
    "for i in range (0,5):   \n",
    "    if lista2[i] in set1:\n",
    "        print(\"El elemento que esta en la posicion\",i,\"de la lista creada si esta en el set inicial\")\n",
    "    else:\n",
    "        print(\"El elemento que esta en la posicion\",i,\"de la lista creada no esta en el set inicial\")"
   ]
  },
  {
   "cell_type": "code",
   "execution_count": null,
   "metadata": {},
   "outputs": [],
   "source": []
  }
 ],
 "metadata": {
  "kernelspec": {
   "display_name": "Python 3",
   "language": "python",
   "name": "python3"
  },
  "language_info": {
   "codemirror_mode": {
    "name": "ipython",
    "version": 3
   },
   "file_extension": ".py",
   "mimetype": "text/x-python",
   "name": "python",
   "nbconvert_exporter": "python",
   "pygments_lexer": "ipython3",
   "version": "3.8.3"
  }
 },
 "nbformat": 4,
 "nbformat_minor": 4
}
