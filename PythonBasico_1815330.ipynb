{
 "cells": [
  {
   "cell_type": "markdown",
   "metadata": {},
   "source": [
    "Magdaly Rodriguez Ortiz 1815330"
   ]
  },
  {
   "cell_type": "markdown",
   "metadata": {},
   "source": [
    "•Programa 1 Hola mundo"
   ]
  },
  {
   "cell_type": "code",
   "execution_count": 21,
   "metadata": {},
   "outputs": [
    {
     "name": "stdout",
     "output_type": "stream",
     "text": [
      "Hola mundo\n"
     ]
    }
   ],
   "source": [
    "print(\"Hola mundo\")"
   ]
  },
  {
   "cell_type": "markdown",
   "metadata": {},
   "source": [
    "### Ejercicio 1.###\n",
    "\n",
    "Realiza una variable con tu matricula y realiza una secuencia de imprimir con tu nombre y tu matricula concatenados."
   ]
  },
  {
   "cell_type": "code",
   "execution_count": 22,
   "metadata": {},
   "outputs": [
    {
     "name": "stdout",
     "output_type": "stream",
     "text": [
      "Introduce tu matricula: 1815330\n",
      "Introduce tu nombre: Magdaly Rodriguez Ortiz\n",
      "Magdaly Rodriguez Ortiz 1815330\n"
     ]
    }
   ],
   "source": [
    "mat = int(input(\"Introduce tu matricula: \"))\n",
    "nom = input(\"Introduce tu nombre: \")\n",
    "\n",
    "print ( nom, mat)"
   ]
  },
  {
   "cell_type": "markdown",
   "metadata": {},
   "source": [
    "•Programa 2: Matemáticas sencillas"
   ]
  },
  {
   "cell_type": "code",
   "execution_count": 23,
   "metadata": {},
   "outputs": [
    {
     "name": "stdout",
     "output_type": "stream",
     "text": [
      "10 54 2926\n"
     ]
    }
   ],
   "source": [
    "a = 10\n",
    "b = 54\n",
    "\n",
    "c = a + b**2\n",
    "print (a, b, c)"
   ]
  },
  {
   "cell_type": "markdown",
   "metadata": {},
   "source": [
    "Input del usuario:"
   ]
  },
  {
   "cell_type": "code",
   "execution_count": 25,
   "metadata": {},
   "outputs": [
    {
     "name": "stdout",
     "output_type": "stream",
     "text": [
      "Introduce un número:3\n",
      "Introduce otro número: 2\n",
      "Primer número:  3\n",
      "Segundo número:  2\n"
     ]
    }
   ],
   "source": [
    "a1 = int(input(\"Introduce un número:\" ))\n",
    "b1 = int(input(\"Introduce otro número: \"))\n",
    "\n",
    "print (\"Primer número: \", a1)\n",
    "print(\"Segundo número: \", b1)"
   ]
  },
  {
   "cell_type": "markdown",
   "metadata": {},
   "source": [
    "### Ejercicio 2.###\n",
    "Pidiendo el input del usuario pide dos números y crea una pequeña calculadora con los operadores básicos de suma, resta, multiplicación, división, y exponente.\n"
   ]
  },
  {
   "cell_type": "code",
   "execution_count": 26,
   "metadata": {},
   "outputs": [
    {
     "name": "stdout",
     "output_type": "stream",
     "text": [
      "Introduce el primer numero: 8\n",
      "Introduce el segundo numero: 4\n",
      " \n",
      "MENU \n",
      "1. Suma\n",
      "2. Resta\n",
      "3. División\n",
      "4. Multiplicación\n",
      "5. Exponente\n",
      "6. Salir\n",
      " \n",
      "¿Que operacion desea realizar? 4\n",
      "El resultado de la multiplicación es:  32.0\n",
      " \n",
      "Si desea realizar otra operación oprima 1, de no ser asi oprima 0: 0\n",
      " \n"
     ]
    }
   ],
   "source": [
    "ban = 1\n",
    "while ban == 1:\n",
    "    \n",
    "    a = float(input(\"Introduce el primer numero: \"))\n",
    "    b = float(input(\"Introduce el segundo numero: \")) \n",
    "    print(\" \")\n",
    "    print(\"MENU \")\n",
    "    print(\"1. Suma\")\n",
    "    print(\"2. Resta\")\n",
    "    print(\"3. División\")\n",
    "    print(\"4. Multiplicación\")\n",
    "    print(\"5. Exponente\")\n",
    "    print(\"6. Salir\")\n",
    "    print(\" \")\n",
    "    res = int(input(\"¿Que operacion desea realizar? \"))\n",
    "      \n",
    "    if res == 1 :\n",
    "        ressum = a + b\n",
    "        print(\"El resultado de la suma es: \",ressum)\n",
    "    elif res == 2 :\n",
    "        resres = a - b\n",
    "        print(\"El resultado de la resta es: \",resres)\n",
    "    elif res == 3 :\n",
    "        resdiv = a / b\n",
    "        print(\"El resultado de la división es: \",resdiv)\n",
    "    elif res == 4 :\n",
    "        resmul = a * b\n",
    "        print(\"El resultado de la multiplicación es: \",resmul)\n",
    "    elif res == 5 :\n",
    "        resexp = a ** b\n",
    "        print(\"El resultado es: \",resexp)\n",
    "    elif res == 6 :\n",
    "        break\n",
    "    else:\n",
    "        print(\"     OPCION NO ENCONTRADA.\")\n",
    "    \n",
    "    print(\" \")\n",
    "    ban = int(input(\"Si desea realizar otra operación oprima 1, de no ser asi oprima 0: \"))\n",
    "    print(\" \")"
   ]
  },
  {
   "cell_type": "markdown",
   "metadata": {},
   "source": [
    "•Utilizando el loop de while"
   ]
  },
  {
   "cell_type": "code",
   "execution_count": 27,
   "metadata": {},
   "outputs": [
    {
     "name": "stdout",
     "output_type": "stream",
     "text": [
      "1\n",
      "2\n",
      "3\n",
      "4\n",
      "5\n",
      "6\n",
      "7\n",
      "8\n",
      "9\n",
      "10\n"
     ]
    }
   ],
   "source": [
    "i=1\n",
    "while i <= 10:\n",
    "    print (i)\n",
    "    i=i+1\n",
    "    \n",
    "#i =+1"
   ]
  },
  {
   "cell_type": "markdown",
   "metadata": {},
   "source": [
    "•Utilizando la función de range:"
   ]
  },
  {
   "cell_type": "code",
   "execution_count": 28,
   "metadata": {},
   "outputs": [
    {
     "name": "stdout",
     "output_type": "stream",
     "text": [
      "range(10) -->  [0, 1, 2, 3, 4, 5, 6, 7, 8, 9]\n",
      "range(0,20) -->  [0, 1, 2, 3, 4, 5, 6, 7, 8, 9, 10, 11, 12, 13, 14, 15, 16, 17, 18, 19]\n",
      "range(10,20) -->  [10, 11, 12, 13, 14, 15, 16, 17, 18, 19]\n",
      "range(0,20,2) -->  [0, 2, 4, 6, 8, 10, 12, 14, 16, 18]\n",
      "range(-10,-20,2) -->  []\n",
      "range(-10,-20,-2) -->  [-10, -12, -14, -16, -18]\n"
     ]
    }
   ],
   "source": [
    "print (\"range(10) --> \", list(range(10)))\n",
    "print (\"range(0,20) --> \", list(range(0,20)))\n",
    "print (\"range(10,20) --> \", list(range(10,20)))\n",
    "print (\"range(0,20,2) --> \", list(range(0,20,2)))\n",
    "print (\"range(-10,-20,2) --> \", list(range(-10,-20,2)))\n",
    "print (\"range(-10,-20,-2) --> \", list(range(-10,-20,-2)))"
   ]
  },
  {
   "cell_type": "markdown",
   "metadata": {},
   "source": [
    "• Utilizando la función de range en el loop de for:"
   ]
  },
  {
   "cell_type": "code",
   "execution_count": 29,
   "metadata": {},
   "outputs": [
    {
     "name": "stdout",
     "output_type": "stream",
     "text": [
      "0\n",
      "1\n",
      "2\n",
      "3\n",
      "4\n",
      "5\n",
      "6\n",
      "7\n",
      "8\n",
      "9\n"
     ]
    }
   ],
   "source": [
    "for i in range(0,10):\n",
    "    print (i)"
   ]
  },
  {
   "cell_type": "code",
   "execution_count": 30,
   "metadata": {},
   "outputs": [
    {
     "name": "stdout",
     "output_type": "stream",
     "text": [
      "5  *  1  =  5\n",
      "5  *  2  =  10\n",
      "5  *  3  =  15\n",
      "5  *  4  =  20\n",
      "5  *  5  =  25\n",
      "5  *  6  =  30\n",
      "5  *  7  =  35\n",
      "5  *  8  =  40\n",
      "5  *  9  =  45\n",
      "5  *  10  =  50\n"
     ]
    }
   ],
   "source": [
    "for i in range(1,11):\n",
    "    print (5,\" * \", i , \" = \", i * 5)"
   ]
  },
  {
   "cell_type": "markdown",
   "metadata": {},
   "source": [
    "### Ejercicio 3.###\n",
    "Con loop while o for, realiza una lista de 10 numeros multiplos de 3, y después realiza una función de loop que sume todos los números dentro del arreglo."
   ]
  },
  {
   "cell_type": "code",
   "execution_count": 31,
   "metadata": {},
   "outputs": [
    {
     "name": "stdout",
     "output_type": "stream",
     "text": [
      "La suma de los elementos de la lista es:  165\n"
     ]
    }
   ],
   "source": [
    "num = 3\n",
    "lista =[]\n",
    "for i in range (1,11):\n",
    "    lista.append(num*i)\n",
    "\n",
    "i = 0\n",
    "sum = 0\n",
    "while i < 10 :\n",
    "    sum = sum + lista[i]\n",
    "    i = i + 1\n",
    "\n",
    "print(\"La suma de los elementos de la lista es: \", sum)"
   ]
  },
  {
   "cell_type": "code",
   "execution_count": 32,
   "metadata": {},
   "outputs": [
    {
     "name": "stdout",
     "output_type": "stream",
     "text": [
      "Introduce primer número: 4\n",
      "Introduce segundo número: 5\n",
      "4  <  5\n"
     ]
    }
   ],
   "source": [
    "\n",
    "a = int(input(\"Introduce primer número: \"))\n",
    "b = int(input(\"Introduce segundo número: \"))\n",
    "if  a > b: \n",
    "    print (a,\" > \",b)\n",
    "else:\n",
    "    print (a,\" < \",b)"
   ]
  },
  {
   "cell_type": "markdown",
   "metadata": {},
   "source": [
    "### Ejercicio 4.###\n",
    "\n",
    "Con una función de if else, revisar si un número es par o es impar."
   ]
  },
  {
   "cell_type": "code",
   "execution_count": 33,
   "metadata": {},
   "outputs": [
    {
     "name": "stdout",
     "output_type": "stream",
     "text": [
      "Introduce un numero: 35\n",
      "El numero es impar.\n"
     ]
    }
   ],
   "source": [
    "x = int(input(\"Introduce un numero: \"))\n",
    "\n",
    "if x % 2 == 0 :\n",
    "    print(\"El numero es par.\")\n",
    "else :\n",
    "    print(\"El numero es impar.\")"
   ]
  },
  {
   "cell_type": "markdown",
   "metadata": {},
   "source": [
    "-----------------------------------------------------------------\n",
    "• Con una función de if else, revisar si un número es primo o no."
   ]
  },
  {
   "cell_type": "code",
   "execution_count": 34,
   "metadata": {},
   "outputs": [
    {
     "name": "stdout",
     "output_type": "stream",
     "text": [
      "Introduce un numero: 2\n",
      "El numero es primo\n"
     ]
    }
   ],
   "source": [
    "x = int(input(\"Introduce un numero: \"))\n",
    "divisor = 2\n",
    "ban = 0\n",
    "while (ban == 0) & (divisor < x):\n",
    "    if x % divisor == 0 :\n",
    "        ban = 1\n",
    "    else :\n",
    "        divisor = divisor + 1\n",
    "\n",
    "if ban == 1:\n",
    "    print (\"El numero NO es primo\")\n",
    "else:\n",
    "    print (\"El numero es primo\")\n",
    "\n",
    "    "
   ]
  },
  {
   "cell_type": "markdown",
   "metadata": {},
   "source": [
    "\n",
    "• Uso de funciones en python:"
   ]
  },
  {
   "cell_type": "code",
   "execution_count": 35,
   "metadata": {},
   "outputs": [
    {
     "name": "stdout",
     "output_type": "stream",
     "text": [
      "Suma(10,20) --> 30\n",
      "Suma(20,50) --> -30\n",
      "Suma(80,200) --> 100.7\n"
     ]
    }
   ],
   "source": [
    "\n",
    "def Suma(a,b):\n",
    "    c=a+b\n",
    "    return c\n",
    "\n",
    "print (\"Suma(10,20) -->\", Suma(10,20))\n",
    "print (\"Suma(20,50) -->\", Suma(20,-50)) \n",
    "print (\"Suma(80,200) -->\", Suma(80,20.7))"
   ]
  },
  {
   "cell_type": "markdown",
   "metadata": {},
   "source": [
    "### Ejercicio 5.###\n",
    "\n",
    "Utilizando diferentes clases en python, crea una calculadora con los operadores básicos de suma, resta, multiplicación, división, y exponente."
   ]
  },
  {
   "cell_type": "code",
   "execution_count": 36,
   "metadata": {},
   "outputs": [
    {
     "name": "stdout",
     "output_type": "stream",
     "text": [
      " \n",
      "MENU \n",
      "1. Suma\n",
      "2. Resta\n",
      "3. División\n",
      "4. Multiplicación\n",
      "5. Exponente\n",
      "6. Salir\n",
      " \n",
      "¿Que operacion desea realizar? 4\n",
      "Introduce el primer numero: 2\n",
      "Introduce el segundo numero: 7\n",
      "El resultado de la multiplicacion es :  14.0\n",
      " \n",
      "Si desea realizar otra operación oprima 1, de no ser asi oprima 0: 0\n",
      " \n"
     ]
    }
   ],
   "source": [
    "def Suma (a,b) :\n",
    "    ressum = a + b\n",
    "    print(\"El resultado de la suma es : \", ressum)\n",
    "\n",
    "def Resta (a,b) :\n",
    "    resres = a - b\n",
    "    print(\"El resultado de la resta es : \", resres)\n",
    "\n",
    "def Multiplicacion (a,b) :\n",
    "    resmul = a * b\n",
    "    print(\"El resultado de la multiplicacion es : \",resmul)\n",
    "    \n",
    "def Division (a,b) : \n",
    "    resdiv = a / b\n",
    "    print(\"El resultado de la division es : \", resdiv)\n",
    "\n",
    "def Exponente (a,b) :\n",
    "    resexp = a ** b\n",
    "    print(\"El resultado de la exponencial es : \", resexp)\n",
    "    \n",
    "\n",
    "ban = 1\n",
    "while ban == 1:\n",
    "    \n",
    "    print(\" \")\n",
    "    print(\"MENU \")\n",
    "    print(\"1. Suma\")\n",
    "    print(\"2. Resta\")\n",
    "    print(\"3. División\")\n",
    "    print(\"4. Multiplicación\")\n",
    "    print(\"5. Exponente\")\n",
    "    print(\"6. Salir\")\n",
    "    print(\" \")\n",
    "    res = int(input(\"¿Que operacion desea realizar? \"))\n",
    " \n",
    "    a = float(input(\"Introduce el primer numero: \"))\n",
    "    b = float(input(\"Introduce el segundo numero: \")) \n",
    "    if res == 1 :\n",
    "        Suma(a,b)\n",
    "    elif res == 2 :\n",
    "        Resta(a,b)\n",
    "    elif res == 3 :\n",
    "        Division(a,b)\n",
    "    elif res == 4 :\n",
    "        Multiplicacion(a,b)\n",
    "    elif res == 5 :\n",
    "        Exponente(a,b)\n",
    "    elif res == 6 :\n",
    "        break\n",
    "    else:\n",
    "        print(\"     OPCION NO ENCONTRADA.\")\n",
    "    \n",
    "    print(\" \")\n",
    "    ban = int(input(\"Si desea realizar otra operación oprima 1, de no ser asi oprima 0: \"))\n",
    "    print(\" \")"
   ]
  },
  {
   "cell_type": "markdown",
   "metadata": {},
   "source": [
    "• Funciones matemáticas en la librería de math en python:"
   ]
  },
  {
   "cell_type": "code",
   "execution_count": 37,
   "metadata": {},
   "outputs": [
    {
     "name": "stdout",
     "output_type": "stream",
     "text": [
      "Función exponencial -->  1.3838965267367376e-87\n",
      "Log -->  6.643856189774725\n",
      "Log  -->  2.0\n",
      "Log 10 -->  2.0\n",
      "Coseno -->  0.15425144988758405\n",
      "Seno -->  -0.9880316240928618\n",
      "Tangente -->  -6.405331196646276\n",
      "Raiz cuadrada -->  18.0\n",
      "Valor techo -->  90\n",
      "Valor piso -->  89\n"
     ]
    }
   ],
   "source": [
    "import math as m\n",
    "\n",
    "print (\"Función exponencial --> \", m.exp(-200))  \n",
    "print (\"Log --> \", m.log(100,2)) # Log\n",
    "print (\"Log  --> \", m.log(100,10))# Log\n",
    "print (\"Log 10 --> \", m.log10(100)) # Log 10\n",
    "print (\"Coseno --> \", m.cos(30))    # cos\n",
    "print (\"Seno --> \", m.sin(30))    # sin\n",
    "print (\"Tangente --> \", m.tan(30))    # tan\n",
    "print (\"Raiz cuadrada --> \", m.sqrt(324)) #Raiz\n",
    "print (\"Valor techo --> \", m.ceil(89.9)) #Valor techo\n",
    "print (\"Valor piso --> \", m.floor(89.9)) #Valor piso"
   ]
  },
  {
   "cell_type": "markdown",
   "metadata": {},
   "source": [
    "• Como utilizar variables de string como listas para buscar elementos:"
   ]
  },
  {
   "cell_type": "code",
   "execution_count": 38,
   "metadata": {},
   "outputs": [
    {
     "name": "stdout",
     "output_type": "stream",
     "text": [
      "var1 -->  Hola mundo!\n",
      "var2 -->  Programas de python\n",
      "var1[0] -->  H\n",
      "var2[1:5] -->  rogr\n",
      "var2[:-5] -->  Programas de p\n"
     ]
    }
   ],
   "source": [
    "var1 = 'Hola mundo!'\n",
    "var2 = \"Programas de python\"\n",
    " \n",
    "print (\"var1 --> \", var1)\n",
    "print (\"var2 --> \",var2)\n",
    "print (\"var1[0] --> \", var1[0])\n",
    "print (\"var2[1:5] --> \", var2[1:5])\n",
    "print (\"var2[:-5] --> \", var2[:-5])"
   ]
  },
  {
   "cell_type": "code",
   "execution_count": 39,
   "metadata": {},
   "outputs": [
    {
     "name": "stdout",
     "output_type": "stream",
     "text": [
      "var1 -->  Hola mundo!\n",
      "var2 -->  Programas de python\n",
      "\n",
      "Tamaño de var1 --> :  11\n",
      "Tamaño de var2 --> :  19\n",
      "\n",
      "Uppercase para var1 --> :  HOLA MUNDO!\n",
      "Upper case para var2 --> :  PROGRAMAS DE PYTHON\n",
      "\n",
      "Lower case para var1 --> :  hola mundo!\n",
      "Lower case para var2 --> :  programas de python\n"
     ]
    }
   ],
   "source": [
    "var1 = 'Hola mundo!'\n",
    "var2 = \"Programas de python\"\n",
    "\n",
    "print (\"var1 --> \", var1)\n",
    "print (\"var2 --> \",var2)\n",
    "\n",
    "print (\"\\nTamaño de var1 --> : \", len(var1))\n",
    "print (\"Tamaño de var2 --> : \", len(var2))\n",
    "\n",
    "print (\"\\nUppercase para var1 --> : \", var1.upper())\n",
    "print (\"Upper case para var2 --> : \", var2.upper())\n",
    "\n",
    "print (\"\\nLower case para var1 --> : \", var1.lower())\n",
    "print (\"Lower case para var2 --> : \", var2.lower())"
   ]
  },
  {
   "cell_type": "markdown",
   "metadata": {},
   "source": [
    "• Con input del usuario, revisar como introducir valores de numeros, letras y flotantes dentro de un print:"
   ]
  },
  {
   "cell_type": "code",
   "execution_count": 40,
   "metadata": {},
   "outputs": [
    {
     "name": "stdout",
     "output_type": "stream",
     "text": [
      "Introduce tu nombre: Magdaly\n",
      "Introduce tu edad: 20\n",
      "Precio de tu item: 123\n",
      "Tu nombre es MAGDALY, edad es 20 y el precio de tu item es 123.000000\n"
     ]
    }
   ],
   "source": [
    "name=input(\"Introduce tu nombre: \")\n",
    "age=int(input(\"Introduce tu edad: \"))\n",
    "price=float(input(\"Precio de tu item: \"))\n",
    "s=\"Tu nombre es %s, edad es %d y el precio de tu item es %f\" %(name.upper(),age,price)\n",
    "print (s)"
   ]
  },
  {
   "cell_type": "markdown",
   "metadata": {},
   "source": [
    "• Introducción para el manejo de errores en Python:"
   ]
  },
  {
   "cell_type": "code",
   "execution_count": 41,
   "metadata": {},
   "outputs": [
    {
     "name": "stdout",
     "output_type": "stream",
     "text": [
      "100/ -5  -->  -20.0\n",
      "100/ -4  -->  -25.0\n",
      "100/ -3  -->  -33.333333333333336\n",
      "100/ -2  -->  -50.0\n",
      "100/ -1  -->  -100.0\n"
     ]
    },
    {
     "ename": "ZeroDivisionError",
     "evalue": "division by zero",
     "output_type": "error",
     "traceback": [
      "\u001b[1;31m---------------------------------------------------------------------------\u001b[0m",
      "\u001b[1;31mZeroDivisionError\u001b[0m                         Traceback (most recent call last)",
      "\u001b[1;32m<ipython-input-41-62296f2c0744>\u001b[0m in \u001b[0;36m<module>\u001b[1;34m\u001b[0m\n\u001b[0;32m      1\u001b[0m \u001b[1;32mfor\u001b[0m \u001b[0mi\u001b[0m \u001b[1;32min\u001b[0m \u001b[0mrange\u001b[0m\u001b[1;33m(\u001b[0m\u001b[1;33m-\u001b[0m\u001b[1;36m5\u001b[0m\u001b[1;33m,\u001b[0m\u001b[1;36m6\u001b[0m\u001b[1;33m)\u001b[0m\u001b[1;33m:\u001b[0m\u001b[1;33m\u001b[0m\u001b[1;33m\u001b[0m\u001b[0m\n\u001b[1;32m----> 2\u001b[1;33m     \u001b[0mprint\u001b[0m \u001b[1;33m(\u001b[0m\u001b[1;34m\"100/\"\u001b[0m\u001b[1;33m,\u001b[0m\u001b[0mi\u001b[0m\u001b[1;33m,\u001b[0m\u001b[1;34m\" --> \"\u001b[0m\u001b[1;33m,\u001b[0m \u001b[1;36m100\u001b[0m\u001b[1;33m/\u001b[0m\u001b[0mi\u001b[0m\u001b[1;33m)\u001b[0m\u001b[1;33m\u001b[0m\u001b[1;33m\u001b[0m\u001b[0m\n\u001b[0m",
      "\u001b[1;31mZeroDivisionError\u001b[0m: division by zero"
     ]
    }
   ],
   "source": [
    "for i in range(-5,6):\n",
    "    print (\"100/\",i,\" --> \", 100/i)\n"
   ]
  },
  {
   "cell_type": "code",
   "execution_count": 42,
   "metadata": {},
   "outputs": [
    {
     "name": "stdout",
     "output_type": "stream",
     "text": [
      "100/ -5  -->  -20.0\n",
      "100/ -4  -->  -25.0\n",
      "100/ -3  -->  -33.333333333333336\n",
      "100/ -2  -->  -50.0\n",
      "100/ -1  -->  -100.0\n",
      "error\n",
      "100/ 1  -->  100.0\n",
      "100/ 2  -->  50.0\n",
      "100/ 3  -->  33.333333333333336\n",
      "100/ 4  -->  25.0\n",
      "100/ 5  -->  20.0\n"
     ]
    }
   ],
   "source": [
    "for i in range(-5,6):\n",
    "    try:\n",
    "        print (\"100/\",i,\" --> \", 100/i)\n",
    "    except:\n",
    "        print (\"error\")"
   ]
  },
  {
   "cell_type": "code",
   "execution_count": 43,
   "metadata": {},
   "outputs": [
    {
     "name": "stdout",
     "output_type": "stream",
     "text": [
      "Introduce el nombre del archivo: arc\n"
     ]
    },
    {
     "ename": "FileNotFoundError",
     "evalue": "[Errno 2] No such file or directory: 'arc'",
     "output_type": "error",
     "traceback": [
      "\u001b[1;31m---------------------------------------------------------------------------\u001b[0m",
      "\u001b[1;31mFileNotFoundError\u001b[0m                         Traceback (most recent call last)",
      "\u001b[1;32m<ipython-input-43-0516b617e37f>\u001b[0m in \u001b[0;36m<module>\u001b[1;34m\u001b[0m\n\u001b[0;32m      1\u001b[0m \u001b[0marchivo\u001b[0m\u001b[1;33m=\u001b[0m\u001b[0minput\u001b[0m\u001b[1;33m(\u001b[0m\u001b[1;34m\"Introduce el nombre del archivo: \"\u001b[0m\u001b[1;33m)\u001b[0m\u001b[1;33m\u001b[0m\u001b[1;33m\u001b[0m\u001b[0m\n\u001b[1;32m----> 2\u001b[1;33m \u001b[0mfp\u001b[0m\u001b[1;33m=\u001b[0m\u001b[0mopen\u001b[0m\u001b[1;33m(\u001b[0m\u001b[0marchivo\u001b[0m\u001b[1;33m)\u001b[0m\u001b[1;33m\u001b[0m\u001b[1;33m\u001b[0m\u001b[0m\n\u001b[0m\u001b[0;32m      3\u001b[0m \u001b[0mfp\u001b[0m\u001b[1;33m.\u001b[0m\u001b[0mclose\u001b[0m\u001b[1;33m(\u001b[0m\u001b[1;33m)\u001b[0m\u001b[1;33m\u001b[0m\u001b[1;33m\u001b[0m\u001b[0m\n\u001b[0;32m      4\u001b[0m \u001b[0mprint\u001b[0m \u001b[1;33m(\u001b[0m\u001b[1;34m\"Terminado\"\u001b[0m\u001b[1;33m)\u001b[0m\u001b[1;33m\u001b[0m\u001b[1;33m\u001b[0m\u001b[0m\n",
      "\u001b[1;31mFileNotFoundError\u001b[0m: [Errno 2] No such file or directory: 'arc'"
     ]
    }
   ],
   "source": [
    "archivo=input(\"Introduce el nombre del archivo: \")\n",
    "fp=open(archivo)\n",
    "fp.close()\n",
    "print (\"Terminado\")"
   ]
  },
  {
   "cell_type": "code",
   "execution_count": 44,
   "metadata": {},
   "outputs": [
    {
     "name": "stdout",
     "output_type": "stream",
     "text": [
      "Introduce el nombre del archivo: arc\n",
      "Error !! Archivo no encontrado\n",
      "Terminado\n"
     ]
    }
   ],
   "source": [
    "archivo=input(\"Introduce el nombre del archivo: \")\n",
    "try:\n",
    "    fp=open(archivo)\n",
    "    fp.close()\n",
    "except:\n",
    "    print (\"Error !! Archivo no encontrado\")\n",
    "\n",
    "print (\"Terminado\")"
   ]
  },
  {
   "cell_type": "code",
   "execution_count": 45,
   "metadata": {},
   "outputs": [
    {
     "name": "stdout",
     "output_type": "stream",
     "text": [
      "0  -->  1\n",
      "1  -->  2\n",
      "2  -->  3\n",
      "3  -->  4\n",
      "4  -->  5\n",
      "error\n",
      "error\n",
      "error\n"
     ]
    },
    {
     "data": {
      "text/plain": [
       "5"
      ]
     },
     "execution_count": 45,
     "metadata": {},
     "output_type": "execute_result"
    }
   ],
   "source": [
    "lista1 = [1,2,3,4,5]\n",
    "\n",
    "for i in range(8):\n",
    "    try:\n",
    "        print (i,\" --> \", lista1[i])\n",
    "    except:\n",
    "        print (\"error\")\n",
    "\n",
    "    \n",
    "len(lista1)"
   ]
  },
  {
   "cell_type": "code",
   "execution_count": 46,
   "metadata": {},
   "outputs": [
    {
     "name": "stdout",
     "output_type": "stream",
     "text": [
      "0 --> 1\n",
      "1 --> 2\n",
      "2 --> 3\n",
      "3 --> 4\n",
      "4 --> 5\n",
      "5 --> 6\n",
      "6 --> 7\n"
     ]
    }
   ],
   "source": [
    "lista1 = [1, 2, 3, 4, 5, 6, 7]\n",
    "\n",
    "for i in range(len(lista1)):\n",
    "    try:\n",
    "        print(i, \"-->\", lista1[i])\n",
    "    except:\n",
    "        print(\"Error\")"
   ]
  },
  {
   "cell_type": "markdown",
   "metadata": {},
   "source": [
    "• Creación de numeros aleatorios en Python:"
   ]
  },
  {
   "cell_type": "code",
   "execution_count": 47,
   "metadata": {},
   "outputs": [
    {
     "name": "stdout",
     "output_type": "stream",
     "text": [
      "0.2953761903161004\n",
      "87\n",
      "50.178233754191886\n",
      "[4, 9, 6, 2]\n"
     ]
    }
   ],
   "source": [
    "import random as r\n",
    "print (r.random())\n",
    "print (r.randint(1, 100))\n",
    "print (r.uniform(1, 100))\n",
    "\n",
    "A=[1, 2, 3, 4, 5, 6, 7, 8, 9, 10]\n",
    "print (r.sample(A, 4))"
   ]
  },
  {
   "cell_type": "markdown",
   "metadata": {},
   "source": [
    "## Ejercicios con estructuras básicas de python.##"
   ]
  },
  {
   "cell_type": "markdown",
   "metadata": {},
   "source": [
    "### Tuplas###\n",
    "\n",
    "Crear una variable flotante, integer, boleana y compleja e imprimir el tipo de variable que es."
   ]
  },
  {
   "cell_type": "code",
   "execution_count": 48,
   "metadata": {},
   "outputs": [
    {
     "name": "stdout",
     "output_type": "stream",
     "text": [
      "El tipo de variable de  0.7  es : \n",
      "<class 'float'>\n",
      "El tipo de variable de  7  es : \n",
      "<class 'int'>\n",
      "El tipo de variable de  True  es : \n",
      "<class 'bool'>\n",
      "El tipo de variable de  3j  es : \n",
      "<class 'complex'>\n"
     ]
    }
   ],
   "source": [
    "flotante = 0.7\n",
    "entero = 7\n",
    "booleana = True\n",
    "comp = 3j\n",
    "\n",
    "print(\"El tipo de variable de \",flotante, \" es : \")\n",
    "print(type(flotante))\n",
    "print(\"El tipo de variable de \",entero, \" es : \")\n",
    "print(type(entero))\n",
    "print(\"El tipo de variable de \",booleana, \" es : \")\n",
    "print(type(booleana))\n",
    "print(\"El tipo de variable de \",comp, \" es : \")\n",
    "print(type(comp))\n",
    "\n",
    "\n"
   ]
  },
  {
   "cell_type": "markdown",
   "metadata": {},
   "source": [
    "----------------------------------------------------\n",
    "Crear una tupla con valores enteros imprimir el primer y ultimo valor."
   ]
  },
  {
   "cell_type": "code",
   "execution_count": 49,
   "metadata": {},
   "outputs": [
    {
     "name": "stdout",
     "output_type": "stream",
     "text": [
      "El primer valor de la tupla es :  5\n",
      "El ultimo valor e la tupla es :  9\n"
     ]
    }
   ],
   "source": [
    "tupla1 = (5,3,8,4,9)\n",
    "\n",
    "print(\"El primer valor de la tupla es : \", tupla1[0])\n",
    "print(\"El ultimo valor e la tupla es : \", tupla1[-1])\n"
   ]
  },
  {
   "cell_type": "markdown",
   "metadata": {},
   "source": [
    "-------------------------------------------------------\n",
    "\n",
    "Añadir 3 valores de string a la tupla."
   ]
  },
  {
   "cell_type": "code",
   "execution_count": 50,
   "metadata": {},
   "outputs": [],
   "source": [
    "tupla1 = tupla1 + ('Hola','a','todos')"
   ]
  },
  {
   "cell_type": "markdown",
   "metadata": {},
   "source": [
    "---------------------------------------------\n",
    "\n",
    "Verificar si una variable existe dentro de la tupla."
   ]
  },
  {
   "cell_type": "code",
   "execution_count": 51,
   "metadata": {},
   "outputs": [
    {
     "name": "stdout",
     "output_type": "stream",
     "text": [
      "¿La variable '8' esta en la tupla llamada 'tupla1'?  True\n"
     ]
    }
   ],
   "source": [
    "print(\"¿La variable '8' esta en la tupla llamada 'tupla1'? \", 8 in tupla1)"
   ]
  },
  {
   "cell_type": "markdown",
   "metadata": {},
   "source": [
    "### Listas###\n",
    "\n",
    "Crear una lista con 40 elementos aleatorios enteros."
   ]
  },
  {
   "cell_type": "code",
   "execution_count": 52,
   "metadata": {},
   "outputs": [
    {
     "name": "stdout",
     "output_type": "stream",
     "text": [
      "[7383, 7605, 2582, 7762, 5196, 8434, 8880, 925, 5325, 6044, 7001, 9451, 6541, 4153, 1216, 1437, 1819, 962, 2035, 457, 5607, 4957, 7557, 1971, 7712, 9664, 8465, 4770, 4720, 2500, 5365, 654, 3161, 1809, 8551, 4044, 6223, 3249, 1242, 3684]\n"
     ]
    }
   ],
   "source": [
    "from random import randrange\n",
    "lista1=[]\n",
    "for i in range (0,40):\n",
    "    lista1.append(randrange(10000))\n",
    "\n",
    "print(lista1)\n",
    "    \n"
   ]
  },
  {
   "cell_type": "markdown",
   "metadata": {},
   "source": [
    "-------------------------------\n",
    "Con una funcion (def) crear dos listas nuevas a partir de la lista creada por numeros aleatorios, en la cual en una esten los elementos pares, y en la otra los elementos impares.\n"
   ]
  },
  {
   "cell_type": "code",
   "execution_count": 53,
   "metadata": {},
   "outputs": [
    {
     "name": "stdout",
     "output_type": "stream",
     "text": [
      "La nueva lista de pares es :  [2582, 7762, 5196, 8434, 8880, 6044, 1216, 962, 7712, 9664, 4770, 4720, 2500, 654, 4044, 1242, 3684]\n",
      "La nueva lista de impares es :  [7383, 7605, 925, 5325, 7001, 9451, 6541, 4153, 1437, 1819, 2035, 457, 5607, 4957, 7557, 1971, 8465, 5365, 3161, 1809, 8551, 6223, 3249]\n"
     ]
    }
   ],
   "source": [
    "listapares=[]\n",
    "listaimpares=[]\n",
    "\n",
    "def Lista_nueva(lista1):\n",
    "    for i in range (0,40):\n",
    "        if lista1[i] % 2 == 0 :\n",
    "            listapares.append(lista1[i])\n",
    " \n",
    "        else:\n",
    "            listaimpares.append(lista1[i])\n",
    "    \n",
    "    print(\"La nueva lista de pares es : \",listapares)\n",
    "    print(\"La nueva lista de impares es : \",listaimpares)\n",
    "\n",
    "Lista_nueva(lista1)"
   ]
  },
  {
   "cell_type": "markdown",
   "metadata": {},
   "source": [
    "-----------------------------------\n",
    "Crear dos variables con la longitud de ambas listas nuevas e imprimir las variables.\n"
   ]
  },
  {
   "cell_type": "code",
   "execution_count": 54,
   "metadata": {},
   "outputs": [
    {
     "name": "stdout",
     "output_type": "stream",
     "text": [
      "17\n",
      "23\n"
     ]
    }
   ],
   "source": [
    "varpar = len(listapares)\n",
    "print(varpar)\n",
    "varimpar = len(listaimpares)\n",
    "print(varimpar)"
   ]
  },
  {
   "cell_type": "markdown",
   "metadata": {},
   "source": [
    "----------------------------------------------\n",
    "Ordenar los elementos de la lista par de mayor a menor, y los de la lista impar de menor a mayor.\n"
   ]
  },
  {
   "cell_type": "code",
   "execution_count": 55,
   "metadata": {},
   "outputs": [
    {
     "name": "stdout",
     "output_type": "stream",
     "text": [
      "La lista de pares ordenada de menor a mayor :  [654, 962, 1216, 1242, 2500, 2582, 3684, 4044, 4720, 4770, 5196, 6044, 7712, 7762, 8434, 8880, 9664]\n",
      "La lista de impares ordenada de mayor a menor :  [9664, 8880, 8434, 7762, 7712, 6044, 5196, 4770, 4720, 4044, 3684, 2582, 2500, 1242, 1216, 962, 654]\n"
     ]
    }
   ],
   "source": [
    "def Orden(lista1):\n",
    "    listapares=[]\n",
    "    listaimpares=[]\n",
    "    for i in range (0,40):\n",
    "        if lista1[i] % 2 == 0 :\n",
    "            listapares.append(lista1[i])\n",
    " \n",
    "        else:\n",
    "            listaimpares.append(lista1[i])\n",
    "    print(\"La lista de pares ordenada de menor a mayor : \",(sorted(listapares)))\n",
    "    print(\"La lista de impares ordenada de mayor a menor : \",(sorted(listapares,reverse = True)))\n",
    "    \n",
    "Orden(lista1)"
   ]
  },
  {
   "cell_type": "markdown",
   "metadata": {},
   "source": [
    "-----------------------------------------------------------------\n",
    "Utilizar al menos cuatro de las funciones de listas en python en la lista original de 40 elementos."
   ]
  },
  {
   "cell_type": "code",
   "execution_count": 56,
   "metadata": {},
   "outputs": [
    {
     "name": "stdout",
     "output_type": "stream",
     "text": [
      "La listaejemplo es :  [56, 47, 89, 32, 34, 84, 98, 10, 2, 56, 99, 5, 94, 90, 98, 40, 42, 36, 83, 98, 63, 7, 31, 49, 61, 3, 38, 71, 33, 19, 17, 24, 24, 43, 94, 36, 15, 93, 29, 68]\n",
      " \n",
      "La listaejemplo con el ultimo dato eliminado es :  [56, 47, 89, 32, 34, 84, 98, 10, 2, 56, 99, 5, 94, 90, 98, 40, 42, 36, 83, 98, 63, 7, 31, 49, 61, 3, 38, 71, 33, 19, 17, 24, 24, 43, 94, 36, 15, 93, 29]\n",
      " \n",
      "La listaejemplo extendida es :  [56, 47, 89, 32, 34, 84, 98, 10, 2, 56, 99, 5, 94, 90, 98, 40, 42, 36, 83, 98, 63, 7, 31, 49, 61, 3, 38, 71, 33, 19, 17, 24, 24, 43, 94, 36, 15, 93, 29, 5, 2, 1]\n",
      " \n",
      "La listaejemplo ordenada de menor a mayor es :  [1, 2, 2, 3, 5, 5, 7, 10, 15, 17, 19, 24, 24, 29, 31, 32, 33, 34, 36, 36, 38, 40, 42, 43, 47, 49, 56, 56, 61, 63, 71, 83, 84, 89, 90, 93, 94, 94, 98, 98, 98, 99]\n",
      " \n",
      "La listaejemplo ordenada de mayor a menor es :  [99, 98, 98, 98, 94, 94, 93, 90, 89, 84, 83, 71, 63, 61, 56, 56, 49, 47, 43, 42, 40, 38, 36, 36, 34, 33, 32, 31, 29, 24, 24, 19, 17, 15, 10, 7, 5, 5, 3, 2, 2, 1]\n",
      " \n",
      "Datos eliminados de la lista  []\n"
     ]
    }
   ],
   "source": [
    "listaejemplo=[]\n",
    "for i in range (0,40):\n",
    "    listaejemplo.append(randrange(100))\n",
    "    \n",
    "print(\"La listaejemplo es : \",listaejemplo)\n",
    "print(\" \")\n",
    "listaejemplo.pop()\n",
    "print(\"La listaejemplo con el ultimo dato eliminado es : \",listaejemplo)\n",
    "print(\" \")\n",
    "listaejemplo.extend([5,2,1])\n",
    "print(\"La listaejemplo extendida es : \",listaejemplo)\n",
    "print(\" \")\n",
    "listaejemplo.sort()\n",
    "print(\"La listaejemplo ordenada de menor a mayor es : \",listaejemplo)\n",
    "print(\" \")\n",
    "listaejemplo.reverse()\n",
    "print(\"La listaejemplo ordenada de mayor a menor es : \",listaejemplo)\n",
    "print(\" \")\n",
    "listaejemplo.clear()\n",
    "print(\"Datos eliminados de la lista \",listaejemplo)"
   ]
  },
  {
   "cell_type": "markdown",
   "metadata": {},
   "source": [
    "### Diccionarios###\n",
    "\n",
    "Crear un diccionario de 6 personas que conozcas con su primer nombre y su edad.\n"
   ]
  },
  {
   "cell_type": "code",
   "execution_count": 57,
   "metadata": {},
   "outputs": [],
   "source": [
    "personas = {\"Ricardo\":24,\"Gerardo\":26,\"Luis\":20,\"Juan\":21,\"Alejandra\":23,\"Sofia\":20}"
   ]
  },
  {
   "cell_type": "markdown",
   "metadata": {},
   "source": [
    "----------------------\n",
    "Crear una lista con los valores de la edad y reacomodar la lista de menor a mayor valor.\n"
   ]
  },
  {
   "cell_type": "code",
   "execution_count": 58,
   "metadata": {},
   "outputs": [
    {
     "name": "stdout",
     "output_type": "stream",
     "text": [
      "[20, 20, 21, 23, 24, 26]\n"
     ]
    }
   ],
   "source": [
    "listaedades = list(personas.values())\n",
    "j = len(listaedades) - 1\n",
    "\n",
    "ban = 0\n",
    "while(ban == 0):\n",
    "    ban = 1\n",
    "    for i in range(0, j):\n",
    "        if listaedades[i] > listaedades[i+1]:\n",
    "            ban2 = listaedades[i]\n",
    "            listaedades[i] = listaedades[i+1]\n",
    "            listaedades[i+1] = ban2\n",
    "            ban = 0\n",
    "\n",
    "print(listaedades)\n",
    "\n"
   ]
  },
  {
   "cell_type": "markdown",
   "metadata": {},
   "source": [
    "--------------------------------------\n",
    "Usando el diccionario y un loop, imprimir solo los nombres.\n"
   ]
  },
  {
   "cell_type": "code",
   "execution_count": 59,
   "metadata": {},
   "outputs": [
    {
     "name": "stdout",
     "output_type": "stream",
     "text": [
      "dict_keys(['Ricardo', 'Gerardo', 'Luis', 'Juan', 'Alejandra', 'Sofia'])\n"
     ]
    }
   ],
   "source": [
    "i = 0 \n",
    "while i < 1 :\n",
    "    print(personas.keys())\n",
    "    i = i + 1\n",
    "    "
   ]
  },
  {
   "cell_type": "markdown",
   "metadata": {},
   "source": [
    "-----------------------------------------\n",
    "Añadir dos personas nuevas a tu diccionario, incluyendo edad."
   ]
  },
  {
   "cell_type": "code",
   "execution_count": 60,
   "metadata": {},
   "outputs": [
    {
     "name": "stdout",
     "output_type": "stream",
     "text": [
      "{'Ricardo': 24, 'Gerardo': 26, 'Luis': 20, 'Juan': 21, 'Alejandra': 23, 'Sofia': 20, 'Cristina': 27, 'Alonso': 22}\n"
     ]
    }
   ],
   "source": [
    "personas[\"Cristina\"] = 27\n",
    "personas[\"Alonso\"] = 22\n",
    "\n",
    "print(personas)"
   ]
  },
  {
   "cell_type": "markdown",
   "metadata": {},
   "source": [
    "### Sets.###\n",
    "\n",
    "Crea un set con 100 numeros aleatorios enteros del 1 al 25.\n"
   ]
  },
  {
   "cell_type": "code",
   "execution_count": 61,
   "metadata": {},
   "outputs": [
    {
     "name": "stdout",
     "output_type": "stream",
     "text": [
      "{1, 2, 3, 4, 5, 6, 7, 8, 9, 10, 11, 12, 13, 14, 15, 16, 17, 18, 19, 20, 21, 22, 23, 24, 25}\n"
     ]
    }
   ],
   "source": [
    "import numpy as np\n",
    "set1 = set()\n",
    "for i in range(0,100):\n",
    "    set1.add(np.random.randint(1,26)) \n",
    "print(set1)"
   ]
  },
  {
   "cell_type": "markdown",
   "metadata": {},
   "source": [
    "----------------------------------\n",
    "Comprueba la longitud de tu set.\n"
   ]
  },
  {
   "cell_type": "code",
   "execution_count": 62,
   "metadata": {},
   "outputs": [
    {
     "data": {
      "text/plain": [
       "25"
      ]
     },
     "execution_count": 62,
     "metadata": {},
     "output_type": "execute_result"
    }
   ],
   "source": [
    "len(set1)"
   ]
  },
  {
   "cell_type": "markdown",
   "metadata": {},
   "source": [
    "---------------------------------------\n",
    "Crea una lista de 5 numeros aleatorios del 1 al 10 y comprueba si cada valor aparece en el set inicial."
   ]
  },
  {
   "cell_type": "code",
   "execution_count": 66,
   "metadata": {},
   "outputs": [
    {
     "name": "stdout",
     "output_type": "stream",
     "text": [
      "[8, 7, 8, 5, 9]\n",
      "El elemento que esta en la posicion 0 de la lista creada si esta en el set inicial\n",
      "El elemento que esta en la posicion 1 de la lista creada si esta en el set inicial\n",
      "El elemento que esta en la posicion 2 de la lista creada si esta en el set inicial\n",
      "El elemento que esta en la posicion 3 de la lista creada si esta en el set inicial\n",
      "El elemento que esta en la posicion 4 de la lista creada si esta en el set inicial\n"
     ]
    }
   ],
   "source": [
    "import numpy as np\n",
    "lista2=[]\n",
    "for i in range (0,5):\n",
    "    lista2.append(np.random.randint(1,11))\n",
    "\n",
    "print(lista2)\n",
    "for i in range (0,5):   \n",
    "    if lista2[i] in set1:\n",
    "        print(\"El elemento que esta en la posicion\",i,\"de la lista creada si esta en el set inicial\")\n",
    "    else:\n",
    "        print(\"El elemento que esta en la posicion\",i,\"de la lista creada no esta en el set inicial\")"
   ]
  },
  {
   "cell_type": "code",
   "execution_count": null,
   "metadata": {},
   "outputs": [],
   "source": []
  }
 ],
 "metadata": {
  "kernelspec": {
   "display_name": "Python 3",
   "language": "python",
   "name": "python3"
  },
  "language_info": {
   "codemirror_mode": {
    "name": "ipython",
    "version": 3
   },
   "file_extension": ".py",
   "mimetype": "text/x-python",
   "name": "python",
   "nbconvert_exporter": "python",
   "pygments_lexer": "ipython3",
   "version": "3.8.3"
  }
 },
 "nbformat": 4,
 "nbformat_minor": 4
}
